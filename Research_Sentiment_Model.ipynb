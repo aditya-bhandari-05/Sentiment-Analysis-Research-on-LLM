{
  "nbformat": 4,
  "nbformat_minor": 0,
  "metadata": {
    "colab": {
      "provenance": []
    },
    "kernelspec": {
      "name": "python3",
      "display_name": "Python 3"
    },
    "language_info": {
      "name": "python"
    }
  },
  "cells": [
    {
      "cell_type": "markdown",
      "source": [
        "#**Training and Running Sentiment Analysis (Naive Bayes Classifier) Model to research public sentiments on LLM**\n",
        "\n",
        "In this, we will walk through a data science project focused on cleaning and classifying reddit comments to get real public sentiments on the advance of LLM applications.\n",
        "\n",
        "We'll use Python libraries such as ***pandas***, ***NLTK***, ***scikit-learn***, and ***imbalanced-learn*** to accomplish this.\n",
        "\n",
        "Below is the breakdown of the code and what it does at each step."
      ],
      "metadata": {
        "id": "9Hq_zDFHniWE"
      }
    },
    {
      "cell_type": "markdown",
      "source": [],
      "metadata": {
        "id": "wKPkGR60imuE"
      }
    },
    {
      "cell_type": "markdown",
      "source": [
        "##**Importing Necessary Libraries**\n",
        "\n",
        "We start by importing the essential libraries for data manipulation, visualization, and sentiment analysis."
      ],
      "metadata": {
        "id": "5s6ScNoXoQ7-"
      }
    },
    {
      "cell_type": "code",
      "source": [
        "import pandas as pd\n",
        "import seaborn as sns\n",
        "import matplotlib.pyplot as plt\n",
        "from sklearn.model_selection import train_test_split\n",
        "from sklearn.feature_extraction.text import CountVectorizer\n",
        "from sklearn.naive_bayes import MultinomialNB\n",
        "from sklearn.metrics import accuracy_score, classification_report, confusion_matrix\n",
        "import re\n",
        "import string\n",
        "import nltk\n",
        "from nltk.tokenize import word_tokenize\n",
        "from nltk.corpus import stopwords\n",
        "from nltk.stem import WordNetLemmatizer\n",
        "from imblearn.over_sampling import SMOTE\n"
      ],
      "metadata": {
        "id": "SmWkN--dis8E"
      },
      "execution_count": 3,
      "outputs": []
    },
    {
      "cell_type": "markdown",
      "source": [
        "##**Loading and Inspecting the Dataset**\n",
        "\n",
        "Next, we load our dataset, which contains pre-labeled tweets and their associated sentiments (Positive, Negative or Neutral) to required to train the NLP model."
      ],
      "metadata": {
        "id": "-8JJFQEGoiEO"
      }
    },
    {
      "cell_type": "code",
      "source": [
        "df = pd.read_csv(\"Tweets and sentiment.csv\")\n",
        "df = df.drop('sno', axis =1)\n",
        "df.columns"
      ],
      "metadata": {
        "colab": {
          "base_uri": "https://localhost:8080/"
        },
        "id": "gDp8XWhpita7",
        "outputId": "77cac307-bf62-4d6b-8ff7-c181a3404c9a"
      },
      "execution_count": 6,
      "outputs": [
        {
          "output_type": "execute_result",
          "data": {
            "text/plain": [
              "Index(['tweet', 'sentiment'], dtype='object')"
            ]
          },
          "metadata": {},
          "execution_count": 6
        }
      ]
    },
    {
      "cell_type": "markdown",
      "source": [
        "##**Downloading NLTK Data**\n",
        "Before processing text data, we need to download some necessary data from the NLTK library. This includes tokenizers, stop words, and the WordNet lemmatizer."
      ],
      "metadata": {
        "id": "Mut4zzLooukb"
      }
    },
    {
      "cell_type": "code",
      "source": [
        "nltk.download('punkt')\n",
        "nltk.download('stopwords')\n",
        "nltk.download('wordnet')"
      ],
      "metadata": {
        "colab": {
          "base_uri": "https://localhost:8080/"
        },
        "id": "hRVMVfL6ivb4",
        "outputId": "8d206707-73c4-48ae-cc38-8cf23c05881d"
      },
      "execution_count": 7,
      "outputs": [
        {
          "output_type": "stream",
          "name": "stderr",
          "text": [
            "[nltk_data] Downloading package punkt to /root/nltk_data...\n",
            "[nltk_data]   Unzipping tokenizers/punkt.zip.\n",
            "[nltk_data] Downloading package stopwords to /root/nltk_data...\n",
            "[nltk_data]   Unzipping corpora/stopwords.zip.\n",
            "[nltk_data] Downloading package wordnet to /root/nltk_data...\n"
          ]
        },
        {
          "output_type": "execute_result",
          "data": {
            "text/plain": [
              "True"
            ]
          },
          "metadata": {},
          "execution_count": 7
        }
      ]
    },
    {
      "cell_type": "markdown",
      "source": [
        "##**Cleaning the Tweets**\n",
        "\n",
        "We define a function to clean the tweets by removing Twitter handles, URLs, special characters, stop words, and by performing tokenization and lemmatization.\n",
        "\n",
        "This step ensures that our text data is in a suitable format for further analysis."
      ],
      "metadata": {
        "id": "ouga-3tbpErX"
      }
    },
    {
      "cell_type": "code",
      "source": [
        "def clean_tweet(tweet):\n",
        "    # Remove Twitter handles\n",
        "    tweet = re.sub(r'@[\\w]+', '', tweet)\n",
        "\n",
        "    # Remove URLs\n",
        "    tweet = re.sub(r'http\\S+', '', tweet)\n",
        "\n",
        "    # Remove special characters and punctuation\n",
        "    tweet = re.sub(r'[^\\w\\s]', '', tweet)\n",
        "\n",
        "    # Tokenization\n",
        "    tokens = word_tokenize(tweet)\n",
        "\n",
        "    # Remove stop words\n",
        "    stop_words = set(stopwords.words('english'))\n",
        "    tokens = [word for word in tokens if word.lower() not in stop_words]\n",
        "\n",
        "    # Lowercasing\n",
        "    tokens = [word.lower() for word in tokens]\n",
        "\n",
        "    # Remove numbers\n",
        "    tokens = [word for word in tokens if not word.isdigit()]\n",
        "\n",
        "    # Lemmatization\n",
        "    lemmatizer = WordNetLemmatizer()\n",
        "    tokens = [lemmatizer.lemmatize(word) for word in tokens]\n",
        "\n",
        "    # Join tokens back into a string\n",
        "    cleaned_tweet = ' '.join(tokens)\n",
        "\n",
        "    return cleaned_tweet\n",
        "\n",
        "df['tweet'] = df['tweet'].apply(clean_tweet)\n",
        "print(df.head())\n"
      ],
      "metadata": {
        "colab": {
          "base_uri": "https://localhost:8080/"
        },
        "id": "WQycpEPWjMPL",
        "outputId": "a7fbdd3a-013c-48e5-a44c-b506ccc77483"
      },
      "execution_count": 8,
      "outputs": [
        {
          "output_type": "stream",
          "name": "stdout",
          "text": [
            "                                               tweet sentiment\n",
            "0         chatgpt optimizing language model dialogue   neutral\n",
            "1  try talking chatgpt new ai system optimized di...      good\n",
            "2  chatgpt optimizing language model dialogue ai ...   neutral\n",
            "3  thrilled share chatgpt new model optimized dia...      good\n",
            "4    minute ago released new chatgpt nnand use right       bad\n"
          ]
        }
      ]
    },
    {
      "cell_type": "markdown",
      "source": [
        "##**Converting Text into Numerical Data**\n",
        "\n",
        "We use the ***CountVectorizer*** to transform the text data into numerical data suitable for machine learning algorithms. This step converts the cleaned text into a matrix of token counts."
      ],
      "metadata": {
        "id": "n60NE8gypQi2"
      }
    },
    {
      "cell_type": "code",
      "source": [
        "vectorizer = CountVectorizer()\n",
        "train_vectors = vectorizer.fit_transform(df['tweet'])\n"
      ],
      "metadata": {
        "id": "ni1FSu99jPJg"
      },
      "execution_count": 9,
      "outputs": []
    },
    {
      "cell_type": "markdown",
      "source": [
        "##**Balancing the Classes with SMOTE**\n",
        "\n",
        "To handle any class imbalances in our dataset, we use the ***SMOTE (Synthetic Minority Over-sampling Technique)*** method.\n",
        "\n",
        "SMOTE generates synthetic samples for the minority class to ensure the model does not become biased towards the majority class."
      ],
      "metadata": {
        "id": "OPAwmS8EpabJ"
      }
    },
    {
      "cell_type": "code",
      "source": [
        "smote = SMOTE(sampling_strategy='auto', random_state=1111)\n",
        "train_vectors_resampled, train_labels_resampled = smote.fit_resample(train_vectors, df['sentiment'])\n"
      ],
      "metadata": {
        "id": "C-ZWqr65jSHv"
      },
      "execution_count": 10,
      "outputs": []
    },
    {
      "cell_type": "markdown",
      "source": [
        "##**Training the Sentiment Analysis Model**\n",
        "We use the Multinomial Naive Bayes algorithm to train our sentiment analysis model. This algorithm is well-suited for text classification tasks, which is the same in our case of comments and tweets."
      ],
      "metadata": {
        "id": "jr9MgIOSp1W0"
      }
    },
    {
      "cell_type": "code",
      "source": [
        "model = MultinomialNB()\n",
        "model.fit(train_vectors_resampled, train_labels_resampled)\n"
      ],
      "metadata": {
        "colab": {
          "base_uri": "https://localhost:8080/",
          "height": 75
        },
        "id": "lb7y-0s5jUU1",
        "outputId": "332234a5-5ad3-46b8-ddc8-a859eec0ab11"
      },
      "execution_count": 11,
      "outputs": [
        {
          "output_type": "execute_result",
          "data": {
            "text/plain": [
              "MultinomialNB()"
            ],
            "text/html": [
              "<style>#sk-container-id-1 {color: black;background-color: white;}#sk-container-id-1 pre{padding: 0;}#sk-container-id-1 div.sk-toggleable {background-color: white;}#sk-container-id-1 label.sk-toggleable__label {cursor: pointer;display: block;width: 100%;margin-bottom: 0;padding: 0.3em;box-sizing: border-box;text-align: center;}#sk-container-id-1 label.sk-toggleable__label-arrow:before {content: \"▸\";float: left;margin-right: 0.25em;color: #696969;}#sk-container-id-1 label.sk-toggleable__label-arrow:hover:before {color: black;}#sk-container-id-1 div.sk-estimator:hover label.sk-toggleable__label-arrow:before {color: black;}#sk-container-id-1 div.sk-toggleable__content {max-height: 0;max-width: 0;overflow: hidden;text-align: left;background-color: #f0f8ff;}#sk-container-id-1 div.sk-toggleable__content pre {margin: 0.2em;color: black;border-radius: 0.25em;background-color: #f0f8ff;}#sk-container-id-1 input.sk-toggleable__control:checked~div.sk-toggleable__content {max-height: 200px;max-width: 100%;overflow: auto;}#sk-container-id-1 input.sk-toggleable__control:checked~label.sk-toggleable__label-arrow:before {content: \"▾\";}#sk-container-id-1 div.sk-estimator input.sk-toggleable__control:checked~label.sk-toggleable__label {background-color: #d4ebff;}#sk-container-id-1 div.sk-label input.sk-toggleable__control:checked~label.sk-toggleable__label {background-color: #d4ebff;}#sk-container-id-1 input.sk-hidden--visually {border: 0;clip: rect(1px 1px 1px 1px);clip: rect(1px, 1px, 1px, 1px);height: 1px;margin: -1px;overflow: hidden;padding: 0;position: absolute;width: 1px;}#sk-container-id-1 div.sk-estimator {font-family: monospace;background-color: #f0f8ff;border: 1px dotted black;border-radius: 0.25em;box-sizing: border-box;margin-bottom: 0.5em;}#sk-container-id-1 div.sk-estimator:hover {background-color: #d4ebff;}#sk-container-id-1 div.sk-parallel-item::after {content: \"\";width: 100%;border-bottom: 1px solid gray;flex-grow: 1;}#sk-container-id-1 div.sk-label:hover label.sk-toggleable__label {background-color: #d4ebff;}#sk-container-id-1 div.sk-serial::before {content: \"\";position: absolute;border-left: 1px solid gray;box-sizing: border-box;top: 0;bottom: 0;left: 50%;z-index: 0;}#sk-container-id-1 div.sk-serial {display: flex;flex-direction: column;align-items: center;background-color: white;padding-right: 0.2em;padding-left: 0.2em;position: relative;}#sk-container-id-1 div.sk-item {position: relative;z-index: 1;}#sk-container-id-1 div.sk-parallel {display: flex;align-items: stretch;justify-content: center;background-color: white;position: relative;}#sk-container-id-1 div.sk-item::before, #sk-container-id-1 div.sk-parallel-item::before {content: \"\";position: absolute;border-left: 1px solid gray;box-sizing: border-box;top: 0;bottom: 0;left: 50%;z-index: -1;}#sk-container-id-1 div.sk-parallel-item {display: flex;flex-direction: column;z-index: 1;position: relative;background-color: white;}#sk-container-id-1 div.sk-parallel-item:first-child::after {align-self: flex-end;width: 50%;}#sk-container-id-1 div.sk-parallel-item:last-child::after {align-self: flex-start;width: 50%;}#sk-container-id-1 div.sk-parallel-item:only-child::after {width: 0;}#sk-container-id-1 div.sk-dashed-wrapped {border: 1px dashed gray;margin: 0 0.4em 0.5em 0.4em;box-sizing: border-box;padding-bottom: 0.4em;background-color: white;}#sk-container-id-1 div.sk-label label {font-family: monospace;font-weight: bold;display: inline-block;line-height: 1.2em;}#sk-container-id-1 div.sk-label-container {text-align: center;}#sk-container-id-1 div.sk-container {/* jupyter's `normalize.less` sets `[hidden] { display: none; }` but bootstrap.min.css set `[hidden] { display: none !important; }` so we also need the `!important` here to be able to override the default hidden behavior on the sphinx rendered scikit-learn.org. See: https://github.com/scikit-learn/scikit-learn/issues/21755 */display: inline-block !important;position: relative;}#sk-container-id-1 div.sk-text-repr-fallback {display: none;}</style><div id=\"sk-container-id-1\" class=\"sk-top-container\"><div class=\"sk-text-repr-fallback\"><pre>MultinomialNB()</pre><b>In a Jupyter environment, please rerun this cell to show the HTML representation or trust the notebook. <br />On GitHub, the HTML representation is unable to render, please try loading this page with nbviewer.org.</b></div><div class=\"sk-container\" hidden><div class=\"sk-item\"><div class=\"sk-estimator sk-toggleable\"><input class=\"sk-toggleable__control sk-hidden--visually\" id=\"sk-estimator-id-1\" type=\"checkbox\" checked><label for=\"sk-estimator-id-1\" class=\"sk-toggleable__label sk-toggleable__label-arrow\">MultinomialNB</label><div class=\"sk-toggleable__content\"><pre>MultinomialNB()</pre></div></div></div></div></div>"
            ]
          },
          "metadata": {},
          "execution_count": 11
        }
      ]
    },
    {
      "cell_type": "markdown",
      "source": [
        "##**Evaluating the Model**\n",
        "Since the model has been trained and tested. We evaluate the performance of our model using accuracy score, confusion matrix, and classification report. These metrics help us understand how well our model is performing."
      ],
      "metadata": {
        "id": "yD23bOInqDwZ"
      }
    },
    {
      "cell_type": "code",
      "source": [
        "  # Evaluations\n",
        "predictions = model.predict(train_vectors)\n",
        "accuracy = accuracy_score(df['sentiment'], predictions)\n",
        "print(f\"Accuracy: {accuracy:.2f}\")\n",
        "\n",
        "# Confusion Matrix\n",
        "cm = confusion_matrix(df['sentiment'], predictions)\n",
        "print(\"Confusion Matrix:\")\n",
        "print(cm)\n",
        "\n",
        "# Confusion Matrix plot\n",
        "plt.figure(figsize=(8,6))\n",
        "sns.heatmap(cm, annot=True, fmt=\"d\", cmap=\"Blues\", xticklabels=model.classes_, yticklabels=model.classes_)\n",
        "plt.title('Confusion Matrix')\n",
        "plt.xlabel('Predicted Label')\n",
        "plt.ylabel('True Label')\n",
        "plt.show()\n",
        "\n",
        "# Classification Report\n",
        "print(\"\\nClassification Report:\")\n",
        "print(classification_report(df['sentiment'], predictions))\n"
      ],
      "metadata": {
        "colab": {
          "base_uri": "https://localhost:8080/",
          "height": 859
        },
        "id": "PM94LczzjV-u",
        "outputId": "44b758c8-b0b8-441f-fe3f-2dd3da61571d"
      },
      "execution_count": 12,
      "outputs": [
        {
          "output_type": "stream",
          "name": "stdout",
          "text": [
            "Accuracy: 0.80\n",
            "Confusion Matrix:\n",
            "[[88904  7334 11558]\n",
            " [ 1332 49300  5379]\n",
            " [ 5467 13248 36772]]\n"
          ]
        },
        {
          "output_type": "display_data",
          "data": {
            "text/plain": [
              "<Figure size 800x600 with 2 Axes>"
            ],
            "image/png": "[encoded data removed]"
          },
          "metadata": {}
        },
        {
          "output_type": "stream",
          "name": "stdout",
          "text": [
            "\n",
            "Classification Report:\n",
            "              precision    recall  f1-score   support\n",
            "\n",
            "         bad       0.93      0.82      0.87    107796\n",
            "        good       0.71      0.88      0.78     56011\n",
            "     neutral       0.68      0.66      0.67     55487\n",
            "\n",
            "    accuracy                           0.80    219294\n",
            "   macro avg       0.77      0.79      0.78    219294\n",
            "weighted avg       0.81      0.80      0.80    219294\n",
            "\n"
          ]
        }
      ]
    },
    {
      "cell_type": "markdown",
      "source": [
        "##**Applying the Model to the Reddit Dataset**\n",
        "Since the model is working fine with good recall and precision for key categories, i.e. Good and Bad, we can now go ahead an run it on the scraped Reddit Data.\n",
        "\n",
        "We apply our trained model to the Reddit dataset containing comments to predict their sentiments. This step involves preprocessing the new comments, predicting their sentiment using our trained model, and saving the results to a new file."
      ],
      "metadata": {
        "id": "221qpXfxqXri"
      }
    },
    {
      "cell_type": "code",
      "source": [
        "# Redddit Scraped dataset\n",
        "dfnew = pd.read_excel('scraped data.xlsx')\n",
        "\n",
        "# Preprocess the comments in the reddit dataset\n",
        "dfnew['comment'] = dfnew['comment'].apply(clean_tweet)\n",
        "\n",
        "dfnew['predicted_sentiment'] = model.predict(vectorizer.transform(dfnew['comment']))\n",
        "\n",
        "#saving the comments in the new file\n",
        "dfnew.to_excel('output_comments_with_sentiment.xlsx', index=False)\n"
      ],
      "metadata": {
        "id": "JsYq2MJ5jZx0"
      },
      "execution_count": 14,
      "outputs": []
    },
    {
      "cell_type": "markdown",
      "source": [],
      "metadata": {
        "id": "Ki98QoLbqylD"
      }
    }
  ]
}